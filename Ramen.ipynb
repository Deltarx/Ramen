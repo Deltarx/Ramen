{
 "cells": [
  {
   "cell_type": "code",
   "execution_count": 36,
   "metadata": {},
   "outputs": [],
   "source": [
    "class Leg:\n",
    "    def hip(self, x, lower, upper):\n",
    "        x = 180\n",
    "        upper = 0\n",
    "        lower = 0\n",
    "        x != upper\n",
    "        x != lower\n",
    "        if x < lower:\n",
    "            x = lower   \n",
    "        if x > upper:\n",
    "            x = upper\n",
    "    \n",
    "    def thigh(self, x, lower, upper):\n",
    "        x = 180\n",
    "        upper = 0\n",
    "        lower = 0\n",
    "        x != upper\n",
    "        x != lower\n",
    "        if x < lower:\n",
    "            x = lower   \n",
    "        if x > upper:\n",
    "            x = upper\n",
    "        \n",
    "    def forarm(self, x, lower, upper):\n",
    "        x = 180\n",
    "        upper = 0\n",
    "        lower = 0\n",
    "        x != upper\n",
    "        x != lower\n",
    "        if x < lower:\n",
    "            x = lower   \n",
    "        if x > upper:\n",
    "            x = upper\n",
    "\n"
   ]
  },
  {
   "cell_type": "code",
   "execution_count": 37,
   "metadata": {},
   "outputs": [
    {
     "name": "stdout",
     "output_type": "stream",
     "text": [
      "<bound method Leg.hip of <__main__.Leg object at 0x000001DB7F02E1D0>>\n"
     ]
    }
   ],
   "source": [
    "'''                                     \n",
    "                                         x = rotation of the axis\n",
    "                            upper.limit = the upper limit of rotation of the axis\n",
    "                            lower.limit = the lower limit of rotation of the axis\n",
    "       if x is greater than the upper limit or less then than the lower limit is resets back to default\n",
    "       \n",
    "                                           example:\n",
    "                                           a = leg()\n",
    "                                           a.hip(101,30,255)\n",
    "                                           a.thigh(277,90,300)\n",
    "                                           a.forarm(30,45,280)\n",
    "'''\n",
    "\n",
    "# leg A set values\n",
    "a = Leg()\n",
    "a.hip(255, 0, 359)\n",
    "a.thigh(255, 0, 359)\n",
    "a.forarm(255, 0, 359)\n",
    "\n",
    "# leg B set values\n",
    "b = Leg()\n",
    "b.hip(255, 0, 359)\n",
    "b.thigh(255, 0, 359)\n",
    "b.forarm(255, 0, 359)\n",
    "\n",
    "# leg C set values\n",
    "c = Leg()\n",
    "c.hip(255, 0, 359)\n",
    "c.thigh(255, 0, 359)\n",
    "c.forarm(255, 0, 359)\n",
    "\n",
    "# leg d set values\n",
    "d = Leg()\n",
    "d.hip(255, 0, 359)\n",
    "d.thigh(255, 0, 359)\n",
    "d.forarm(255, 0, 359)"
   ]
  },
  {
   "cell_type": "code",
   "execution_count": null,
   "metadata": {},
   "outputs": [],
   "source": []
  }
 ],
 "metadata": {
  "kernelspec": {
   "display_name": "Python 3",
   "language": "python",
   "name": "python3"
  },
  "language_info": {
   "codemirror_mode": {
    "name": "ipython",
    "version": 3
   },
   "file_extension": ".py",
   "mimetype": "text/x-python",
   "name": "python",
   "nbconvert_exporter": "python",
   "pygments_lexer": "ipython3",
   "version": "3.6.5"
  }
 },
 "nbformat": 4,
 "nbformat_minor": 2
}
